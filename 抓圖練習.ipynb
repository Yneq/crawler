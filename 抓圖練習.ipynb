{
  "nbformat": 4,
  "nbformat_minor": 0,
  "metadata": {
    "colab": {
      "provenance": [],
      "authorship_tag": "ABX9TyNxEdBBaQmO/oEY+EgOaeRo",
      "include_colab_link": true
    },
    "kernelspec": {
      "name": "python3",
      "display_name": "Python 3"
    },
    "language_info": {
      "name": "python"
    }
  },
  "cells": [
    {
      "cell_type": "markdown",
      "metadata": {
        "id": "view-in-github",
        "colab_type": "text"
      },
      "source": [
        "<a href=\"https://colab.research.google.com/github/Yneq/crawler/blob/main/%E6%8A%93%E5%9C%96%E7%B7%B4%E7%BF%92.ipynb\" target=\"_parent\"><img src=\"https://colab.research.google.com/assets/colab-badge.svg\" alt=\"Open In Colab\"/></a>"
      ]
    },
    {
      "cell_type": "markdown",
      "source": [
        "抓一張圖片"
      ],
      "metadata": {
        "id": "hx1sPVIXis8N"
      }
    },
    {
      "cell_type": "code",
      "execution_count": null,
      "metadata": {
        "id": "r47kpis3WKGM"
      },
      "outputs": [],
      "source": [
        "import requests\n",
        "imgURL=\"https://www.drmaster.com.tw/Cover/MP22030.png\"\n",
        "response=requests.get(imgURL)\n",
        "with open('MP22030.png','wb') as f:\n",
        "  f.write(response.content)"
      ]
    },
    {
      "cell_type": "markdown",
      "source": [
        "# 新增區段"
      ],
      "metadata": {
        "id": "F13e4kBiePrW"
      }
    },
    {
      "cell_type": "code",
      "source": [],
      "metadata": {
        "id": "rQC0hxF9iw9E"
      },
      "execution_count": null,
      "outputs": []
    },
    {
      "cell_type": "markdown",
      "source": [
        "抓新書標題"
      ],
      "metadata": {
        "id": "QegJYj1Cik0J"
      }
    },
    {
      "cell_type": "code",
      "source": [
        "import requests\n",
        "from bs4 import BeautifulSoup\n",
        "urlstr=\"http://drmaster.com.tw/Publish_Newbook.asp\"\n",
        "response=requests.get(urlstr)\n",
        "response.encoding=\"utf-8\"\n",
        "bs=BeautifulSoup(response.text, \"html.parser\")\n",
        "print(bs.title.text)\n",
        "listBookName=bs.select(\".style2\")\n",
        "count=len(listBookName)\n",
        "print(\"共 %d 筆新書記錄\" %(count))\n",
        "for book in listBookName:\n",
        "  print(book.text)"
      ],
      "metadata": {
        "colab": {
          "base_uri": "https://localhost:8080/"
        },
        "id": "9lLiEUFdeRA9",
        "outputId": "8ad2e15f-d383-4622-c467-77732aad1d1e"
      },
      "execution_count": 21,
      "outputs": [
        {
          "output_type": "stream",
          "name": "stdout",
          "text": [
            "新書推薦 | 博碩文化股份有限公司\n",
            "共 20 筆新書記錄\n",
            "行動行銷的13堂關鍵必修課：ChatGPT‧社群‧APP‧LINE‧大數據‧抖音‧元宇宙‧Mobile SEO‧GA到GA4\n",
            "超高效Google×ChatGPT雲端應用：打造競爭優勢的必勝工作術\n",
            "Vue.js 3前端開發不踩雷：Composition API×Vue Router×Pinia，帶你快速升級進階開發者！（iThome鐵人賽系列書）【軟精裝】\n",
            "TensorFlow模型解析與範例大全\n",
            "AI集客力！FB+IG+LINE+ChatGPT全效社群行銷術：提供社群平台的全方位知識，結合ChatGPT應用加持，提升行銷效果\n",
            "React 思維進化：一次打破常見的觀念誤解，躍升專業前端開發者（iThome鐵人賽系列書）【軟精裝】\n",
            "Web Tracking 的資安攻擊與防禦策略：淺析當代瀏覽器的隱私議題 （iThome鐵人賽系列書）【軟精裝】\n",
            "網頁視覺特效最強必殺技大全：用 Three.js 與 Shader 圖說核心原理 x 閃避踩雷 x 創作指南（iThome鐵人賽系列書）【軟精裝】\n",
            "計算機與人工智慧概論\n",
            "Midjourney AI 繪圖：指令、風格與祕技一次滿足\n",
            "網路行銷的13堂關鍵必修課：ChatGPT‧UIUX‧行動支付‧成長駭客‧社群廣告‧SEO‧網紅直播‧元宇宙‧Google Analytics (暢銷回饋版)\n",
            "Clean Architecture實作篇：在整潔的架構上弄髒你的手（第二版）\n",
            "HTML/CSS/JavaScript與前端框架的完美結合：使用Bootstrap與PWA技術，新手從這開始！(暢銷回饋版)\n",
            "資料庫系統管理與實作-Access+Excel商務應用(2016/2019/2021) 暢銷回饋版\n",
            "科技巨頭的演算法大揭祕：資料科學家必讀的資料科學與機器學習實戰筆記（iThome鐵人賽系列書）【軟精裝】\n",
            "設計玩嗨了！Photoshop x Illustrator x ChatGPT：AI 突破你對創意的想像\n",
            "AI集客力！FB+IG+Threads+ChatGPT全效社群行銷術：解析社群平台的行銷祕笈，搭配ChatGPT智慧魔法，瞄準零秒成交\n",
            "聰明提問AI的技巧與實例：ChatGPT、Bing Chat、AgentGPT、AI繪圖，一次滿足\n",
            "圖說運算思維與演算邏輯：使用Python+ChatGPT，訓練系統化思考與問題解析方法\n",
            "Google Office 與 ChatGPT 創新應用：打造無限可能的生產力\n"
          ]
        }
      ]
    },
    {
      "cell_type": "markdown",
      "source": [
        "抓取圖片檔網址"
      ],
      "metadata": {
        "id": "oS58jzAynMyU"
      }
    },
    {
      "cell_type": "code",
      "source": [
        "import requests\n",
        "from bs4 import BeautifulSoup\n",
        "urlstr=\"http://drmaster.com.tw/Publish_Newbook.asp\"\n",
        "response=requests.get(urlstr)\n",
        "response.encoding=\"utf-8\"\n",
        "bs=BeautifulSoup(response.text, \"html.parser\")\n",
        "\n",
        "listImageUrl=bs.select(\"td a img\")\n",
        "for link in listImageUrl:\n",
        "  if(\"Cover\" in link.get(\"src\")):\n",
        "    print(\"https://www.drmaster.com.tw\" + link.get(\"src\"))"
      ],
      "metadata": {
        "colab": {
          "base_uri": "https://localhost:8080/"
        },
        "id": "zBdIJcUAnMPr",
        "outputId": "dc0f3ae2-6efe-483a-d217-01d13229ed59"
      },
      "execution_count": 27,
      "outputs": [
        {
          "output_type": "stream",
          "name": "stdout",
          "text": [
            "https://www.drmaster.com.tw/Cover/MI22314.png\n",
            "https://www.drmaster.com.tw/Cover/MI22402.png\n",
            "https://www.drmaster.com.tw/Cover/MP22337.png\n",
            "https://www.drmaster.com.tw/Cover/MP22358.png\n",
            "https://www.drmaster.com.tw/Cover/MI22316.png\n",
            "https://www.drmaster.com.tw/Cover/MP22335.png\n",
            "https://www.drmaster.com.tw/Cover/MP22338.png\n",
            "https://www.drmaster.com.tw/Cover/MP22343.png\n",
            "https://www.drmaster.com.tw/Cover/ME32304.png\n",
            "https://www.drmaster.com.tw/Cover/MP22407.png\n",
            "https://www.drmaster.com.tw/Cover/MI32306.png\n",
            "https://www.drmaster.com.tw/Cover/MP12308.png\n",
            "https://www.drmaster.com.tw/Cover/MP22368.png\n",
            "https://www.drmaster.com.tw/Cover/MP32325.png\n",
            "https://www.drmaster.com.tw/Cover/MP22326.png\n",
            "https://www.drmaster.com.tw/Cover/MM32401.png\n",
            "https://www.drmaster.com.tw/Cover/MI22315.png\n",
            "https://www.drmaster.com.tw/Cover/MP22404.png\n",
            "https://www.drmaster.com.tw/Cover/MP32316.png\n",
            "https://www.drmaster.com.tw/Cover/MI22401.png\n"
          ]
        }
      ]
    },
    {
      "cell_type": "markdown",
      "source": [
        "最後抓下全部圖檔"
      ],
      "metadata": {
        "id": "snOogNgPqpF8"
      }
    },
    {
      "cell_type": "code",
      "source": [
        "import requests\n",
        "\n",
        "image_urls = [\n",
        "    \"https://www.drmaster.com.tw/Cover/MI22314.png\",\n",
        "    \"https://www.drmaster.com.tw/Cover/MI22402.png\",\n",
        "    \"https://www.drmaster.com.tw/Cover/MP22337.png\",\n",
        "    \"https://www.drmaster.com.tw/Cover/MP22337.png\",\n",
        "    \"https://www.drmaster.com.tw/Cover/MP22358.png\",\n",
        "    \"https://www.drmaster.com.tw/Cover/MI22316.png\",\n",
        "    \"https://www.drmaster.com.tw/Cover/MP22335.png\",\n",
        "    \"https://www.drmaster.com.tw/Cover/MP22338.png\",\n",
        "    \"https://www.drmaster.com.tw/Cover/MP22343.png\",\n",
        "    \"https://www.drmaster.com.tw/Cover/ME32304.png\",\n",
        "    \"https://www.drmaster.com.tw/Cover/MP22407.png\",\n",
        "    \"https://www.drmaster.com.tw/Cover/MI32306.png\",\n",
        "    \"https://www.drmaster.com.tw/Cover/MP12308.png\",\n",
        "    \"https://www.drmaster.com.tw/Cover/MP22368.png\",\n",
        "    \"https://www.drmaster.com.tw/Cover/MP32325.png\",\n",
        "    \"https://www.drmaster.com.tw/Cover/MP22326.png\",\n",
        "    \"https://www.drmaster.com.tw/Cover/MM32401.png\",\n",
        "    \"https://www.drmaster.com.tw/Cover/MI22315.png\",\n",
        "    \"https://www.drmaster.com.tw/Cover/MP22404.png\",\n",
        "    \"https://www.drmaster.com.tw/Cover/MP32316.png\",\n",
        "    \"https://www.drmaster.com.tw/Cover/MI22401.png\"\n",
        "]\n",
        "\n",
        "for img_url in image_urls:\n",
        "    response = requests.get(img_url)\n",
        "    if response.status_code == 200:\n",
        "        # 從 URL 中提取檔案名稱作為本地檔案名稱\n",
        "        file_name = img_url.split(\"/\")[-1]\n",
        "        with open(file_name, 'wb') as f:\n",
        "            f.write(response.content)\n",
        "        print(f\"{file_name} 下載成功\")\n",
        "    else:\n",
        "        print(f\"圖片 {img_url} 下載失敗，HTTP 狀態碼: {response.status_code}\")\n"
      ],
      "metadata": {
        "colab": {
          "base_uri": "https://localhost:8080/"
        },
        "id": "EaA0krnrqt1q",
        "outputId": "7b4d8f8e-9a62-4653-848d-fc3af78d15b6"
      },
      "execution_count": 2,
      "outputs": [
        {
          "output_type": "stream",
          "name": "stdout",
          "text": [
            "MI22314.png 下載成功\n",
            "MI22402.png 下載成功\n",
            "MP22337.png 下載成功\n",
            "MP22337.png 下載成功\n",
            "MP22358.png 下載成功\n",
            "MI22316.png 下載成功\n",
            "MP22335.png 下載成功\n",
            "MP22338.png 下載成功\n",
            "MP22343.png 下載成功\n",
            "ME32304.png 下載成功\n",
            "MP22407.png 下載成功\n",
            "MI32306.png 下載成功\n",
            "MP12308.png 下載成功\n",
            "MP22368.png 下載成功\n",
            "MP32325.png 下載成功\n",
            "MP22326.png 下載成功\n",
            "MM32401.png 下載成功\n",
            "MI22315.png 下載成功\n",
            "MP22404.png 下載成功\n",
            "MP32316.png 下載成功\n",
            "MI22401.png 下載成功\n"
          ]
        }
      ]
    }
  ]
}