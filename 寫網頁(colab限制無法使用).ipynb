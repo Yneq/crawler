{
  "nbformat": 4,
  "nbformat_minor": 0,
  "metadata": {
    "colab": {
      "provenance": [],
      "authorship_tag": "ABX9TyPVcxVIjXv3/H0wwvz0uQbY",
      "include_colab_link": true
    },
    "kernelspec": {
      "name": "python3",
      "display_name": "Python 3"
    },
    "language_info": {
      "name": "python"
    }
  },
  "cells": [
    {
      "cell_type": "markdown",
      "metadata": {
        "id": "view-in-github",
        "colab_type": "text"
      },
      "source": [
        "<a href=\"https://colab.research.google.com/github/Yneq/crawler/blob/main/%E5%AF%AB%E7%B6%B2%E9%A0%81(colab%E9%99%90%E5%88%B6%E7%84%A1%E6%B3%95%E4%BD%BF%E7%94%A8).ipynb\" target=\"_parent\"><img src=\"https://colab.research.google.com/assets/colab-badge.svg\" alt=\"Open In Colab\"/></a>"
      ]
    },
    {
      "cell_type": "code",
      "execution_count": 1,
      "metadata": {
        "colab": {
          "base_uri": "https://localhost:8080/",
          "height": 145
        },
        "id": "dRDt8Xd9fGj6",
        "outputId": "1fd509c7-468f-4479-904c-287277a72a1e"
      },
      "outputs": [
        {
          "output_type": "error",
          "ename": "IndentationError",
          "evalue": "expected an indented block after 'if' statement on line 8 (<ipython-input-1-d8934b1ceee2>, line 9)",
          "traceback": [
            "\u001b[0;36m  File \u001b[0;32m\"<ipython-input-1-d8934b1ceee2>\"\u001b[0;36m, line \u001b[0;32m9\u001b[0m\n\u001b[0;31m    app.run()\u001b[0m\n\u001b[0m    ^\u001b[0m\n\u001b[0;31mIndentationError\u001b[0m\u001b[0;31m:\u001b[0m expected an indented block after 'if' statement on line 8\n"
          ]
        }
      ],
      "source": [
        "from flask import Flask\n",
        "app=Flask(__name__)\n",
        "\n",
        "@app.route(\"/\")\n",
        "def home():\n",
        "  return \"Hello Flask\"\n",
        "\n",
        "  if __name__==\"__main__\":\n",
        "  app.run()"
      ]
    }
  ]
}