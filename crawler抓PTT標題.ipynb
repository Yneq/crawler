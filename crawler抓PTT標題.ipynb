{
  "nbformat": 4,
  "nbformat_minor": 0,
  "metadata": {
    "colab": {
      "provenance": [],
      "authorship_tag": "ABX9TyMAzpxIX8fzkxxKeDzU+A05",
      "include_colab_link": true
    },
    "kernelspec": {
      "name": "python3",
      "display_name": "Python 3"
    },
    "language_info": {
      "name": "python"
    }
  },
  "cells": [
    {
      "cell_type": "markdown",
      "metadata": {
        "id": "view-in-github",
        "colab_type": "text"
      },
      "source": [
        "<a href=\"https://colab.research.google.com/github/Yneq/crawler/blob/main/crawler%E6%8A%93PTT%E6%A8%99%E9%A1%8C.ipynb\" target=\"_parent\"><img src=\"https://colab.research.google.com/assets/colab-badge.svg\" alt=\"Open In Colab\"/></a>"
      ]
    },
    {
      "cell_type": "code",
      "execution_count": null,
      "metadata": {
        "colab": {
          "base_uri": "https://localhost:8080/"
        },
        "id": "PIUGCdNIc1qQ",
        "outputId": "4d6fd520-07e5-425c-ec5a-57ae09e630f2"
      },
      "outputs": [
        {
          "output_type": "stream",
          "name": "stdout",
          "text": [
            "[情報] 2024 DiscussingFilm 評論家獎 得獎名單\n",
            "[情報] 《露梁：死亡之海》全台上映戲院列表\n",
            "[新聞] 棕櫚泉影展頒獎 瑪格羅比粉吸睛\n",
            "[情報] 1/7 當週12部新片預告+Youtube觀看排行\n",
            "[討論] 該繼續看柯南劇場版嗎......?\n",
            "[好雷] 沒有通道的關係：《愛情轉移》\n",
            "[普負雷] 叛諜檔案\n",
            "[新聞] 愛情喜劇榮光不再 凱特哈德森嘆男星沒興\n",
            "Re: [新聞] 愛情喜劇榮光不再 凱特哈德森嘆男星沒興\n",
            "[情報] 2024 第81屆金球獎得獎名單\n",
            "Re: [新聞] 愛情喜劇榮光不再 凱特哈德森嘆男星沒興\n",
            "[新聞] 135億《臺灣三部曲》計畫敗給疫情　魏\n",
            "[雷] 普雷 非常兒童向的旺卡\n",
            "[情報] 2024 第81屆金球獎 得獎名單\n",
            "[新聞] 查理漢納願回歸《環太平洋3》但有一條件\n",
            "[問片] 想問用藍色塑膠桶棄屍的片\n",
            "[新聞] 自殺突擊隊導演不爽黑粉攻擊 DC 總裁岡\n",
            "[片單] 利用牌桌或賭局橋段隱喻的片單\n",
            "[普雷] 限時引爆 The Engineer-和平是共同願望\n"
          ]
        }
      ],
      "source": [
        "import urllib.request as req\n",
        "url=\"https://www.ptt.cc/bbs/movie/index9932.html\"\n",
        "request=req.Request(url, headers={\n",
        "    \"User-Agent\":\"Mozilla/5.0 (Macintosh; Intel Mac OS X 10_15_7) AppleWebKit/537.36 (KHTML, like Gecko) Chrome/116.0.0.0 Safari/537.36\"\n",
        "})\n",
        "with req.urlopen(request) as response:\n",
        "  data=response.read().decode(\"utf-8\")\n",
        "import bs4\n",
        "root = bs4.BeautifulSoup(data, \"html.parser\")\n",
        "titles = root.find_all(\"div\", class_=\"title\")\n",
        "for title in titles:\n",
        "  if title.a != None:\n",
        "    print(title.a.string)"
      ]
    },
    {
      "cell_type": "markdown",
      "source": [
        "八掛版 滿18才能進入"
      ],
      "metadata": {
        "id": "QrG3gQ38p3UU"
      }
    },
    {
      "cell_type": "code",
      "source": [
        "import urllib.request as req\n",
        "def getData(url):\n",
        "  url=\"https://www.ptt.cc/bbs/Gossiping/index.html\"\n",
        "  request=req.Request(url, headers={\n",
        "      \"cookie\":\"over18=1\",\n",
        "      \"User-Agent\":\"Mozilla/5.0 (Macintosh; Intel Mac OS X 10_15_7) AppleWebKit/537.36 (KHTML, like Gecko) Chrome/116.0.0.0 Safari/537.36\"\n",
        "  })\n",
        "  with req.urlopen(request) as response:\n",
        "    data=response.read().decode(\"utf-8\")\n",
        "  import bs4\n",
        "  root = bs4.BeautifulSoup(data, \"html.parser\")\n",
        "  titles = root.find_all(\"div\", class_=\"title\")\n",
        "  for title in titles:\n",
        "    if title.a != None:\n",
        "      print(title.a.string)\n",
        "\n",
        "  nextLink=root.find(\"a\", string=\"‹ 上頁\")\n",
        "  return(nextLink[\"href\"])\n",
        "\n",
        "pageURL=\"https://www.ptt.cc/bbs/Gossiping/index.html\"\n",
        "count=0\n",
        "while count<3:\n",
        "  pageURL=\"https://www.ptt.cc\" + getData(pageURL)\n",
        "  count+=1"
      ],
      "metadata": {
        "colab": {
          "base_uri": "https://localhost:8080/"
        },
        "id": "_Ks18xWNmK-d",
        "outputId": "c8584050-7acb-402c-d46a-019879953988"
      },
      "execution_count": null,
      "outputs": [
        {
          "output_type": "stream",
          "name": "stdout",
          "text": [
            "[問卦] 金城武現在都在忙些什麼？\n",
            "Re: [問卦] 民眾黨2028還有希望嗎\n",
            "[問卦] 看新聞看哪家好？〓〓\n",
            "[新聞] 賴清德：台灣選出了一位中國厭惡的總統，\n",
            "Re: [問卦] 民眾黨2028還有希望嗎\n",
            "Re: [問卦] 美國費城是不是有喪屍？\n",
            "[新聞] 美將實施T+1交割制度 基金管理機構籲歐\n",
            "[問卦] = =  ※  諾魯斷交討論 停止線 ※  = =\n",
            "[問卦] 女同事叫我一起參加婚禮是當紅包分母？\n",
            "Re: [新聞] 陳水扁出庭替女兒打贏官司 保外就醫任訴\n",
            "[問卦] 黑絲短裙妹在會館急忙換高跟鞋要去幹嘛??\n",
            "[問卦] 有沒有動力火車的八卦\n",
            "[問卦] 遇到這種情況要跪主機板嗎\n",
            "Re: [問卦] 民眾黨2028還有希望嗎\n",
            "Re: [新聞] 侯友宜《台灣的未來》新競選片晚間上架\n",
            "Re: [問卦] 媽的 抖音怎麼一堆智障在那邊說做票…\n",
            "Re: [問卦] 媽的 抖音怎麼一堆智障在那邊說做票\n",
            "[問卦] 高雄也才2條捷運，轉乘設計在爛什麼？\n",
            "[問卦] 該怎麼幫助年輕人呢？ 有沒有卦？0.0\n",
            "[問卦] 台灣最頂的旅遊節目是啥？\n",
            "[公告] 八卦板板規(2023.11.11)\n",
            "[公告] 暫時性板規 期限至2024年01月20日\n",
            "[問卦] 金城武現在都在忙些什麼？\n",
            "Re: [問卦] 民眾黨2028還有希望嗎\n",
            "[問卦] 看新聞看哪家好？〓〓\n",
            "[新聞] 賴清德：台灣選出了一位中國厭惡的總統，\n",
            "Re: [問卦] 民眾黨2028還有希望嗎\n",
            "Re: [問卦] 美國費城是不是有喪屍？\n",
            "[新聞] 美將實施T+1交割制度 基金管理機構籲歐\n",
            "[問卦] = =  ※  諾魯斷交討論 停止線 ※  = =\n",
            "[問卦] 女同事叫我一起參加婚禮是當紅包分母？\n",
            "Re: [新聞] 陳水扁出庭替女兒打贏官司 保外就醫任訴\n",
            "[問卦] 黑絲短裙妹在會館急忙換高跟鞋要去幹嘛??\n",
            "[問卦] 有沒有動力火車的八卦\n",
            "[問卦] 遇到這種情況要跪主機板嗎\n",
            "Re: [問卦] 民眾黨2028還有希望嗎\n",
            "Re: [新聞] 侯友宜《台灣的未來》新競選片晚間上架\n",
            "Re: [問卦] 媽的 抖音怎麼一堆智障在那邊說做票…\n",
            "Re: [問卦] 媽的 抖音怎麼一堆智障在那邊說做票\n",
            "[問卦] 高雄也才2條捷運，轉乘設計在爛什麼？\n",
            "[問卦] 該怎麼幫助年輕人呢？ 有沒有卦？0.0\n",
            "[問卦] 台灣最頂的旅遊節目是啥？\n",
            "[公告] 八卦板板規(2023.11.11)\n",
            "[公告] 暫時性板規 期限至2024年01月20日\n",
            "[問卦] 金城武現在都在忙些什麼？\n",
            "Re: [問卦] 民眾黨2028還有希望嗎\n",
            "[問卦] 看新聞看哪家好？〓〓\n",
            "[新聞] 賴清德：台灣選出了一位中國厭惡的總統，\n",
            "Re: [問卦] 民眾黨2028還有希望嗎\n",
            "Re: [問卦] 美國費城是不是有喪屍？\n",
            "[新聞] 美將實施T+1交割制度 基金管理機構籲歐\n",
            "[問卦] = =  ※  諾魯斷交討論 停止線 ※  = =\n",
            "[問卦] 女同事叫我一起參加婚禮是當紅包分母？\n",
            "Re: [新聞] 陳水扁出庭替女兒打贏官司 保外就醫任訴\n",
            "[問卦] 黑絲短裙妹在會館急忙換高跟鞋要去幹嘛??\n",
            "[問卦] 有沒有動力火車的八卦\n",
            "[問卦] 遇到這種情況要跪主機板嗎\n",
            "Re: [問卦] 民眾黨2028還有希望嗎\n",
            "Re: [新聞] 侯友宜《台灣的未來》新競選片晚間上架\n",
            "Re: [問卦] 媽的 抖音怎麼一堆智障在那邊說做票…\n",
            "Re: [問卦] 媽的 抖音怎麼一堆智障在那邊說做票\n",
            "[問卦] 高雄也才2條捷運，轉乘設計在爛什麼？\n",
            "[問卦] 該怎麼幫助年輕人呢？ 有沒有卦？0.0\n",
            "[問卦] 台灣最頂的旅遊節目是啥？\n",
            "[公告] 八卦板板規(2023.11.11)\n",
            "[公告] 暫時性板規 期限至2024年01月20日\n"
          ]
        }
      ]
    }
  ]
}