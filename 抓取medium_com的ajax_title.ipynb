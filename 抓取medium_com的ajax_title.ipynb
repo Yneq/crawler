{
  "nbformat": 4,
  "nbformat_minor": 0,
  "metadata": {
    "colab": {
      "provenance": [],
      "authorship_tag": "ABX9TyP9C0qgfd2Px/SRcDyGQVqJ",
      "include_colab_link": true
    },
    "kernelspec": {
      "name": "python3",
      "display_name": "Python 3"
    },
    "language_info": {
      "name": "python"
    }
  },
  "cells": [
    {
      "cell_type": "markdown",
      "metadata": {
        "id": "view-in-github",
        "colab_type": "text"
      },
      "source": [
        "<a href=\"https://colab.research.google.com/github/Yneq/crawler/blob/main/%E6%8A%93%E5%8F%96medium_com%E7%9A%84ajax_title.ipynb\" target=\"_parent\"><img src=\"https://colab.research.google.com/assets/colab-badge.svg\" alt=\"Open In Colab\"/></a>"
      ]
    },
    {
      "cell_type": "code",
      "source": [
        "from typing import ItemsView\n",
        "import urllib.request as req\n",
        "import json\n",
        "\n",
        "url = \"https://medium.com/_/graphql\"\n",
        "requestData={\"operationName\":\"CuratedHomeFeedModuleQuery\",\"variables\":{\"paging\":{\"from\":\"10\",\"limit\":10}},\"query\":\"query CuratedHomeFeedModuleQuery($paging: PagingOptions!) {\\n  staffPicksFeed(input: {paging: $paging}) {\\n    items {\\n      ...CuratedHomeFeedItems_homeFeedItems\\n      __typename\\n    }\\n    pagingInfo {\\n      next {\\n        page\\n        limit\\n        from\\n        __typename\\n      }\\n      __typename\\n    }\\n    __typename\\n  }\\n}\\n\\nfragment CuratedHomeFeedItems_homeFeedItems on HomeFeedItem {\\n  __typename\\n  post {\\n    id\\n    title\\n    ...HomeFeedItem_post\\n    __typename\\n  }\\n}\\n\\nfragment HomeFeedItem_post on Post {\\n  __typename\\n  id\\n  title\\n  firstPublishedAt\\n  mediumUrl\\n  collection {\\n    id\\n    name\\n    domain\\n    logo {\\n      id\\n      __typename\\n    }\\n    __typename\\n  }\\n  creator {\\n    id\\n    name\\n    username\\n    imageId\\n    mediumMemberAt\\n    __typename\\n  }\\n  previewImage {\\n    id\\n    __typename\\n  }\\n  previewContent {\\n    subtitle\\n    __typename\\n  }\\n  readingTime\\n  tags {\\n    ...TopicPill_tag\\n    __typename\\n  }\\n  ...BookmarkButton_post\\n  ...OverflowMenuButtonWithNegativeSignal_post\\n  ...PostPresentationTracker_post\\n  ...PostPreviewAvatar_post\\n  ...Star_post\\n}\\n\\nfragment TopicPill_tag on Tag {\\n  __typename\\n  id\\n  displayTitle\\n  normalizedTagSlug\\n}\\n\\nfragment BookmarkButton_post on Post {\\n  visibility\\n  ...SusiClickable_post\\n  ...AddToCatalogBookmarkButton_post\\n  __typename\\n  id\\n}\\n\\nfragment SusiClickable_post on Post {\\n  id\\n  mediumUrl\\n  ...SusiContainer_post\\n  __typename\\n}\\n\\nfragment SusiContainer_post on Post {\\n  id\\n  __typename\\n}\\n\\nfragment AddToCatalogBookmarkButton_post on Post {\\n  ...AddToCatalogBase_post\\n  __typename\\n  id\\n}\\n\\nfragment AddToCatalogBase_post on Post {\\n  id\\n  isPublished\\n  __typename\\n}\\n\\nfragment OverflowMenuButtonWithNegativeSignal_post on Post {\\n  id\\n  visibility\\n  ...OverflowMenuWithNegativeSignal_post\\n  __typename\\n}\\n\\nfragment OverflowMenuWithNegativeSignal_post on Post {\\n  id\\n  creator {\\n    id\\n    __typename\\n  }\\n  collection {\\n    id\\n    __typename\\n  }\\n  ...OverflowMenuItemUndoClaps_post\\n  ...AddToCatalogBase_post\\n  __typename\\n}\\n\\nfragment OverflowMenuItemUndoClaps_post on Post {\\n  id\\n  clapCount\\n  ...ClapMutation_post\\n  __typename\\n}\\n\\nfragment ClapMutation_post on Post {\\n  __typename\\n  id\\n  clapCount\\n  ...MultiVoteCount_post\\n}\\n\\nfragment MultiVoteCount_post on Post {\\n  id\\n  __typename\\n}\\n\\nfragment PostPresentationTracker_post on Post {\\n  id\\n  visibility\\n  previewContent {\\n    isFullContent\\n    __typename\\n  }\\n  collection {\\n    id\\n    slug\\n    __typename\\n  }\\n  __typename\\n}\\n\\nfragment PostPreviewAvatar_post on Post {\\n  __typename\\n  id\\n  collection {\\n    id\\n    name\\n    ...CollectionAvatar_collection\\n    __typename\\n  }\\n  creator {\\n    id\\n    username\\n    name\\n    ...UserAvatar_user\\n    ...userUrl_user\\n    ...useIsVerifiedBookAuthor_user\\n    __typename\\n  }\\n}\\n\\nfragment CollectionAvatar_collection on Collection {\\n  name\\n  avatar {\\n    id\\n    __typename\\n  }\\n  ...collectionUrl_collection\\n  __typename\\n  id\\n}\\n\\nfragment collectionUrl_collection on Collection {\\n  id\\n  domain\\n  slug\\n  __typename\\n}\\n\\nfragment UserAvatar_user on User {\\n  __typename\\n  id\\n  imageId\\n  mediumMemberAt\\n  membership {\\n    tier\\n    __typename\\n    id\\n  }\\n  name\\n  username\\n  ...userUrl_user\\n}\\n\\nfragment userUrl_user on User {\\n  __typename\\n  id\\n  customDomainState {\\n    live {\\n      domain\\n      __typename\\n    }\\n    __typename\\n  }\\n  hasSubdomain\\n  username\\n}\\n\\nfragment useIsVerifiedBookAuthor_user on User {\\n  verifications {\\n    isBookAuthor\\n    __typename\\n  }\\n  __typename\\n  id\\n}\\n\\nfragment Star_post on Post {\\n  id\\n  creator {\\n    id\\n    __typename\\n  }\\n  __typename\\n}\\n\"}\n",
        "request = req.Request(url, headers={\n",
        "    \"Content-Type\": \"application/json\",\n",
        "    \"User-Agent\": \"Mozilla/5.0 (Macintosh; Intel Mac OS X 10_15_7) AppleWebKit/537.36 (KHTML, like Gecko) Chrome/116.0.0.0 Safari/537.36\"\n",
        "}, data=json.dumps(requestData).encode(\"utf-8\"))\n",
        "\n",
        "with req.urlopen(request) as response:\n",
        "    result = response.read().decode(\"utf-8\")\n",
        "result=json.loads(result)\n",
        "#印出第一篇標題\n",
        "#print(result[\"data\"][\"staffPicksFeed\"][\"items\"][0][\"post\"][\"title\"])\n",
        "posts=result[\"data\"][\"staffPicksFeed\"][\"items\"]\n",
        "for item in posts:\n",
        "  print(item[\"post\"][\"title\"])\n"
      ],
      "metadata": {
        "colab": {
          "base_uri": "https://localhost:8080/"
        },
        "id": "PcxfzKOKVEjA",
        "outputId": "3d279bdd-2e11-4c87-cd71-db2517d926b5"
      },
      "execution_count": 85,
      "outputs": [
        {
          "output_type": "stream",
          "name": "stdout",
          "text": [
            "2023 with Prime Minister Trudeau\n",
            "I Came To Bear Witness To A Racially Motivated Assassination: Part 1, Memphis, TN.\n",
            "The Four Stages of Sleep and What They Actually Do\n",
            "Get in the Van.\n",
            "Zen and the Art of Mountain Biking\n",
            "2023: A Review of the Year in Neuroscience\n",
            "NY Times Missed These 12 Trailblazers: Meet the Women Transforming AI\n",
            "108 Favorite Albums Of 2023\n",
            "26 things for 26\n",
            "Birds, bugs, and beauty: The winners of Wiki Loves Earth 2023\n"
          ]
        }
      ]
    }
  ]
}